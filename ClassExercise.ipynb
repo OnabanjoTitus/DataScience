{
 "cells": [
  {
   "cell_type": "code",
   "execution_count": 30,
   "metadata": {},
   "outputs": [
    {
     "name": "stdout",
     "output_type": "stream",
     "text": [
      "['Monday', 'Tuesday', 'Wednesday', 'Thursday', 'Friday', 'Saturday', 'Sunday']\n"
     ]
    }
   ],
   "source": [
    "my_week=[\"Sunday\",\"Monday\",\"Tuesday\",\"Wednesday\",\"Thursday\",\"Friday\",\"Saturday\"]\n",
    "\n",
    "def modify_week(weeks):\n",
    "    lastday=weeks[0] \n",
    "    weeks.pop(0)\n",
    "    newWeek=[]\n",
    "    for day in weeks:\n",
    "        newWeek.append(day)\n",
    "    newWeek.append(lastday)\n",
    "    return newWeek\n",
    "\n",
    "# def modify_weeks(week):\n",
    "#     week.append(week.pop(0))\n",
    "#     return week\n",
    "\n",
    "print(modify_week(my_week))\n",
    "\n",
    "# print(modify_weeks(my_week))\n",
    " \n"
   ]
  },
  {
   "cell_type": "code",
   "execution_count": 40,
   "metadata": {},
   "outputs": [
    {
     "data": {
      "text/plain": [
       "{'Monday': 'Java',\n",
       " 'Tuesday': 'Sleep',\n",
       " 'Wednesday': 'Python',\n",
       " 'Thursday': 'Data Science',\n",
       " 'Friday': 'Catch Cruise',\n",
       " 'Saturday': 'Flex',\n",
       " 'Sunday': 'Flex'}"
      ]
     },
     "execution_count": 40,
     "metadata": {},
     "output_type": "execute_result"
    }
   ],
   "source": [
    "my_week = [\"Monday\",\"Tuesday\",\"Wednesday\",\"Thursday\",\"Friday\",\"Saturday\",\"Sunday\"]\n",
    "tasks = [\"Java\",\"Sleep\",\"Python\",\"Data Science\",\"Catch Cruise\",\"Flex\",\"Flex\"]\n",
    "\n",
    "def daily_plan(days_of_week,task):\n",
    "    my_daily_plans={}\n",
    "    for x, y in zip(days_of_week,task):\n",
    "        my_daily_plans[x]=y\n",
    "    return my_daily_plans\n",
    "daily_plan(my_week,tasks)"
   ]
  },
  {
   "cell_type": "code",
   "execution_count": 58,
   "metadata": {},
   "outputs": [
    {
     "data": {
      "text/plain": [
       "{'Ones': 1, 'Twos': 4, 'Threes': 9, 'Fours': 16, 'Fives': 25}"
      ]
     },
     "execution_count": 58,
     "metadata": {},
     "output_type": "execute_result"
    }
   ],
   "source": [
    "squares=[\"Ones\",\"Twos\",\"Threes\",\"Fours\",\"Fives\"]\n",
    "values=[1,2,3,4,5]\n",
    "\n",
    "def square_of_values(squares_,values_):\n",
    "    square_of_values={}\n",
    "    for x, y in zip(squares_,values_):\n",
    "        square_of_values[x]=y*y\n",
    "    return square_of_values\n",
    "\n",
    "square_of_values(squares,values)"
   ]
  },
  {
   "cell_type": "code",
   "execution_count": 4,
   "metadata": {},
   "outputs": [],
   "source": [
    "def natural_numbers():\n",
    "    n=1\n",
    "    while True:\n",
    "        yield n\n",
    "        n +=1"
   ]
  },
  {
   "cell_type": "code",
   "execution_count": 5,
   "metadata": {},
   "outputs": [
    {
     "name": "stdout",
     "output_type": "stream",
     "text": [
      "[<function natural_numbers at 0x000001C60DC10550>]\n"
     ]
    }
   ],
   "source": [
    "print([natural_numbers])"
   ]
  },
  {
   "cell_type": "code",
   "execution_count": 17,
   "metadata": {},
   "outputs": [
    {
     "name": "stdin",
     "output_type": "stream",
     "text": [
      "Enter group number 1\n",
      "Enter group member names with comma separaing each one a,b,c\n",
      "Enter group number 2\n",
      "Enter group member names with comma separaing each one c,d,a\n",
      "Enter group number 3\n",
      "Enter group member names with comma separaing each one we,are,here\n"
     ]
    },
    {
     "name": "stdout",
     "output_type": "stream",
     "text": [
      "{'1': ['a,b,c'], '2': ['c,d,a'], '3': ['we,are,here']}\n"
     ]
    }
   ],
   "source": [
    "group_collections={}\n",
    "for i in range(3):\n",
    "    x=input(\"Enter group number\")\n",
    "    y=[input(\"Enter group member names with comma separaing each one\")]\n",
    "    group_collections[x]=y\n",
    "print(group_collections)"
   ]
  },
  {
   "cell_type": "code",
   "execution_count": 11,
   "metadata": {},
   "outputs": [
    {
     "name": "stdin",
     "output_type": "stream",
     "text": [
      "Enter guess 1\n"
     ]
    },
    {
     "name": "stdout",
     "output_type": "stream",
     "text": [
      "Wrong guess try again\n"
     ]
    },
    {
     "name": "stdin",
     "output_type": "stream",
     "text": [
      "Enter guess 2\n"
     ]
    },
    {
     "name": "stdout",
     "output_type": "stream",
     "text": [
      "Wrong guess try again\n"
     ]
    },
    {
     "name": "stdin",
     "output_type": "stream",
     "text": [
      "Enter guess 3\n"
     ]
    },
    {
     "name": "stdout",
     "output_type": "stream",
     "text": [
      "Wrong guess try again\n"
     ]
    },
    {
     "name": "stdin",
     "output_type": "stream",
     "text": [
      "Enter guess 4\n"
     ]
    },
    {
     "name": "stdout",
     "output_type": "stream",
     "text": [
      "Wrong guess try again\n"
     ]
    },
    {
     "name": "stdin",
     "output_type": "stream",
     "text": [
      "Enter guess 5\n"
     ]
    },
    {
     "name": "stdout",
     "output_type": "stream",
     "text": [
      "Wrong guess try again\n"
     ]
    },
    {
     "name": "stdin",
     "output_type": "stream",
     "text": [
      "Enter guess 6\n"
     ]
    },
    {
     "name": "stdout",
     "output_type": "stream",
     "text": [
      "Congrats u guessed right\n"
     ]
    }
   ],
   "source": [
    "import random\n",
    "def guess_game():\n",
    "   try:\n",
    "       user_guess=int(input(\"Enter guess\"))\n",
    "       actual_number=int(random.randint(0,10))\n",
    "       while(user_guess!=actual_number):\n",
    "           print(\"Wrong guess try again\")\n",
    "           user_guess=int(input(\"Enter guess\"))\n",
    "           actual_number=int(random.randint(0,10))\n",
    "       print(\"Congrats u guessed right\")\n",
    "   except ValueError as v:\n",
    "       print(\"Invalid input enter an integer\")\n",
    "       guess_game()\n",
    "    \n",
    "guess_game()"
   ]
  },
  {
   "cell_type": "code",
   "execution_count": null,
   "metadata": {},
   "outputs": [],
   "source": [
    "\n"
   ]
  },
  {
   "cell_type": "code",
   "execution_count": null,
   "metadata": {},
   "outputs": [],
   "source": []
  },
  {
   "cell_type": "code",
   "execution_count": null,
   "metadata": {},
   "outputs": [],
   "source": []
  }
 ],
 "metadata": {
  "kernelspec": {
   "display_name": "Python 3",
   "language": "python",
   "name": "python3"
  },
  "language_info": {
   "codemirror_mode": {
    "name": "ipython",
    "version": 3
   },
   "file_extension": ".py",
   "mimetype": "text/x-python",
   "name": "python",
   "nbconvert_exporter": "python",
   "pygments_lexer": "ipython3",
   "version": "3.8.3"
  }
 },
 "nbformat": 4,
 "nbformat_minor": 4
}

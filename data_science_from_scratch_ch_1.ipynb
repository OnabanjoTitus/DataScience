{
 "cells": [
  {
   "cell_type": "code",
   "execution_count": 1,
   "metadata": {},
   "outputs": [],
   "source": [
    "users = [\n",
    " { \"id\": 0, \"name\": \"Hero\" },\n",
    " { \"id\": 1, \"name\": \"Dunn\" },\n",
    " { \"id\": 2, \"name\": \"Sue\" },\n",
    " { \"id\": 3, \"name\": \"Chi\" },\n",
    " { \"id\": 4, \"name\": \"Thor\" },\n",
    " { \"id\": 5, \"name\": \"Clive\" },\n",
    " { \"id\": 6, \"name\": \"Hicks\" },\n",
    " { \"id\": 7, \"name\": \"Devin\" },\n",
    " { \"id\": 8, \"name\": \"Kate\" },\n",
    " { \"id\": 9, \"name\": \"Klein\" }\n",
    "]\n",
    "friendships = [(0, 1), (0, 2), (1, 2), (1, 3), (2, 3), (3, 4),\n",
    " (4, 5), (5, 6), (5, 7), (6, 8), (7, 8), (8, 9)]"
   ]
  },
  {
   "cell_type": "code",
   "execution_count": 2,
   "metadata": {},
   "outputs": [],
   "source": [
    "for user in users:\n",
    "    user[\"friends\"]=[]"
   ]
  },
  {
   "cell_type": "code",
   "execution_count": 3,
   "metadata": {},
   "outputs": [
    {
     "data": {
      "text/plain": [
       "[{'id': 0, 'name': 'Hero', 'friends': []},\n",
       " {'id': 1, 'name': 'Dunn', 'friends': []},\n",
       " {'id': 2, 'name': 'Sue', 'friends': []},\n",
       " {'id': 3, 'name': 'Chi', 'friends': []},\n",
       " {'id': 4, 'name': 'Thor', 'friends': []},\n",
       " {'id': 5, 'name': 'Clive', 'friends': []},\n",
       " {'id': 6, 'name': 'Hicks', 'friends': []},\n",
       " {'id': 7, 'name': 'Devin', 'friends': []},\n",
       " {'id': 8, 'name': 'Kate', 'friends': []},\n",
       " {'id': 9, 'name': 'Klein', 'friends': []}]"
      ]
     },
     "execution_count": 3,
     "metadata": {},
     "output_type": "execute_result"
    }
   ],
   "source": [
    "users"
   ]
  },
  {
   "cell_type": "code",
   "execution_count": 4,
   "metadata": {},
   "outputs": [],
   "source": [
    "for i,j in friendships:\n",
    "    users[i][\"friends\"].append(j)\n",
    "    users[j][\"friends\"].append(i)"
   ]
  },
  {
   "cell_type": "code",
   "execution_count": 5,
   "metadata": {},
   "outputs": [
    {
     "data": {
      "text/plain": [
       "[{'id': 0, 'name': 'Hero', 'friends': [1, 2]},\n",
       " {'id': 1, 'name': 'Dunn', 'friends': [0, 2, 3]},\n",
       " {'id': 2, 'name': 'Sue', 'friends': [0, 1, 3]},\n",
       " {'id': 3, 'name': 'Chi', 'friends': [1, 2, 4]},\n",
       " {'id': 4, 'name': 'Thor', 'friends': [3, 5]},\n",
       " {'id': 5, 'name': 'Clive', 'friends': [4, 6, 7]},\n",
       " {'id': 6, 'name': 'Hicks', 'friends': [5, 8]},\n",
       " {'id': 7, 'name': 'Devin', 'friends': [5, 8]},\n",
       " {'id': 8, 'name': 'Kate', 'friends': [6, 7, 9]},\n",
       " {'id': 9, 'name': 'Klein', 'friends': [8]}]"
      ]
     },
     "execution_count": 5,
     "metadata": {},
     "output_type": "execute_result"
    }
   ],
   "source": [
    "users"
   ]
  },
  {
   "cell_type": "code",
   "execution_count": 6,
   "metadata": {},
   "outputs": [
    {
     "data": {
      "text/plain": [
       "[{'id': 0, 'name': 'Hero', 'friends': [1, 2]},\n",
       " {'id': 1, 'name': 'Dunn', 'friends': [0, 2, 3]},\n",
       " {'id': 2, 'name': 'Sue', 'friends': [0, 1, 3]},\n",
       " {'id': 3, 'name': 'Chi', 'friends': [1, 2, 4]},\n",
       " {'id': 4, 'name': 'Thor', 'friends': [3, 5]},\n",
       " {'id': 5, 'name': 'Clive', 'friends': [4, 6, 7]},\n",
       " {'id': 6, 'name': 'Hicks', 'friends': [5, 8]},\n",
       " {'id': 7, 'name': 'Devin', 'friends': [5, 8]},\n",
       " {'id': 8, 'name': 'Kate', 'friends': [6, 7, 9]},\n",
       " {'id': 9, 'name': 'Klein', 'friends': [8]}]"
      ]
     },
     "execution_count": 6,
     "metadata": {},
     "output_type": "execute_result"
    }
   ],
   "source": [
    "users"
   ]
  },
  {
   "cell_type": "code",
   "execution_count": 7,
   "metadata": {},
   "outputs": [],
   "source": [
    "def number_of_friends(user):\n",
    "    return len(user[\"friends\"])\n"
   ]
  },
  {
   "cell_type": "code",
   "execution_count": 10,
   "metadata": {},
   "outputs": [],
   "source": [
    "list_of_friends=([number_of_friends(user) for user in users])"
   ]
  },
  {
   "cell_type": "code",
   "execution_count": 11,
   "metadata": {},
   "outputs": [
    {
     "data": {
      "text/plain": [
       "[2, 3, 3, 3, 2, 3, 2, 2, 3, 1]"
      ]
     },
     "execution_count": 11,
     "metadata": {},
     "output_type": "execute_result"
    }
   ],
   "source": [
    "list_of_friends"
   ]
  },
  {
   "cell_type": "code",
   "execution_count": 12,
   "metadata": {},
   "outputs": [],
   "source": [
    "list_of_friends=(sum([number_of_friends(user) for user in users]))"
   ]
  },
  {
   "cell_type": "code",
   "execution_count": 13,
   "metadata": {},
   "outputs": [
    {
     "data": {
      "text/plain": [
       "24"
      ]
     },
     "execution_count": 13,
     "metadata": {},
     "output_type": "execute_result"
    }
   ],
   "source": [
    "list_of_friends"
   ]
  },
  {
   "cell_type": "code",
   "execution_count": 14,
   "metadata": {},
   "outputs": [],
   "source": [
    "mean_of_all_friends=list_of_friends/len(users)\n"
   ]
  },
  {
   "cell_type": "code",
   "execution_count": 15,
   "metadata": {},
   "outputs": [
    {
     "data": {
      "text/plain": [
       "2.4"
      ]
     },
     "execution_count": 15,
     "metadata": {},
     "output_type": "execute_result"
    }
   ],
   "source": [
    "mean_of_all_friends"
   ]
  },
  {
   "cell_type": "code",
   "execution_count": null,
   "metadata": {},
   "outputs": [],
   "source": []
  }
 ],
 "metadata": {
  "kernelspec": {
   "display_name": "Python 3",
   "language": "python",
   "name": "python3"
  },
  "language_info": {
   "codemirror_mode": {
    "name": "ipython",
    "version": 3
   },
   "file_extension": ".py",
   "mimetype": "text/x-python",
   "name": "python",
   "nbconvert_exporter": "python",
   "pygments_lexer": "ipython3",
   "version": "3.8.3"
  }
 },
 "nbformat": 4,
 "nbformat_minor": 4
}
